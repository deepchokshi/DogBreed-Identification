{
 "cells": [
  {
   "cell_type": "markdown",
   "metadata": {
    "id": "KUxlMe3KO8DB"
   },
   "source": [
    "# Dog Breed Identification"
   ]
  },
  {
   "cell_type": "code",
   "execution_count": 20,
   "metadata": {
    "id": "n4R0S49cDslv"
   },
   "outputs": [],
   "source": [
    "#Importing required libraries.\n",
    "import tensorflow as tf\n",
    "import tensorflow_hub as hub\n",
    "import pandas as pd\n",
    "from IPython.display import Image\n",
    "import os\n",
    "import numpy as np\n",
    "from sklearn.model_selection import train_test_split\n",
    "from matplotlib.pyplot import imread"
   ]
  },
  {
   "cell_type": "code",
   "execution_count": 5,
   "metadata": {},
   "outputs": [
    {
     "name": "stdout",
     "output_type": "stream",
     "text": [
      "Found GPU at: /device:GPU:0\n"
     ]
    }
   ],
   "source": [
    "#Check GPU\n",
    "device_name = tf.test.gpu_device_name()\n",
    "if device_name != '/device:GPU:0':\n",
    "  raise SystemError('GPU device not found')\n",
    "print('Found GPU at: {}'.format(device_name))"
   ]
  },
  {
   "cell_type": "code",
   "execution_count": 6,
   "metadata": {
    "colab": {
     "base_uri": "https://localhost:8080/",
     "height": 202
    },
    "id": "QgHFgXAnPi3s",
    "outputId": "80dfd3b0-45b6-4457-caed-92b8669f598b"
   },
   "outputs": [
    {
     "name": "stdout",
     "output_type": "stream",
     "text": [
      "                                      id               breed\n",
      "count                              10222               10222\n",
      "unique                             10222                 120\n",
      "top     0857307dddb1b41288887ef2338af6df  scottish_deerhound\n",
      "freq                                   1                 126\n",
      "                                 id             breed\n",
      "0  000bec180eb18c7604dcecc8fe0dba07       boston_bull\n",
      "1  001513dfcb2ffafc82cccf4d8bbaba97             dingo\n",
      "2  001cdf01b096e06d78e9e5112d419397          pekinese\n",
      "3  00214f311d5d2247d5dfe4fe24b2303d          bluetick\n",
      "4  0021f9ceb3235effd7fcde7f7538ed62  golden_retriever\n"
     ]
    }
   ],
   "source": [
    "#Importing dog breed datasets's labels\n",
    "labels_csv = pd.read_csv(\"DogDataset/labels.csv\")\n",
    "print (labels_csv.describe())             #labels descriptions   \n",
    "print (labels_csv.head())                 #Top 5 rows of labels csv\n"
   ]
  },
  {
   "cell_type": "code",
   "execution_count": 9,
   "metadata": {
    "colab": {
     "base_uri": "https://localhost:8080/",
     "height": 34
    },
    "id": "y2cbpPwPRM-Y",
    "outputId": "949fd99e-f30f-4177-815b-099ef069d6b1"
   },
   "outputs": [
    {
     "data": {
      "text/plain": [
       "82.0"
      ]
     },
     "execution_count": 9,
     "metadata": {},
     "output_type": "execute_result"
    }
   ],
   "source": [
    "#Images in each breed\n",
    "labels_csv[\"breed\"].value_counts().median()"
   ]
  },
  {
   "cell_type": "code",
   "execution_count": 11,
   "metadata": {
    "id": "kBSIPOG-VicM"
   },
   "outputs": [],
   "source": [
    "#Creating list of file names from the labels's csv file\n",
    "filename = []\n",
    "for fname in labels_csv[\"id\"]:\n",
    "  path = \"DogDataset/train/\" + fname + \".jpg\"\n",
    "  filename.append(path)"
   ]
  },
  {
   "cell_type": "code",
   "execution_count": 12,
   "metadata": {
    "colab": {
     "base_uri": "https://localhost:8080/",
     "height": 34
    },
    "id": "QprTJF99XoDP",
    "outputId": "c5bc7c17-9497-4c37-db4a-47ef41d93fc1"
   },
   "outputs": [
    {
     "name": "stdout",
     "output_type": "stream",
     "text": [
      "Verified all files.\n"
     ]
    }
   ],
   "source": [
    "#Verify the all the labels in csv file\n",
    "if len(os.listdir(\"DogDataset/train/\")) == len(filename):\n",
    "  print (\"Verified all files.\")\n",
    "else:\n",
    "  print (\"Missing some files!!\")"
   ]
  },
  {
   "cell_type": "code",
   "execution_count": 13,
   "metadata": {
    "colab": {
     "base_uri": "https://localhost:8080/",
     "height": 50
    },
    "id": "S1emGLrUYYJu",
    "outputId": "8d2884d9-c0a3-47ed-b5b2-6e154aa29d55"
   },
   "outputs": [
    {
     "data": {
      "text/plain": [
       "array(['boston_bull', 'dingo', 'pekinese', ..., 'airedale',\n",
       "       'miniature_pinscher', 'chesapeake_bay_retriever'], dtype=object)"
      ]
     },
     "execution_count": 13,
     "metadata": {},
     "output_type": "execute_result"
    }
   ],
   "source": [
    "labels = labels_csv[\"breed\"].to_numpy()\n",
    "labels"
   ]
  },
  {
   "cell_type": "code",
   "execution_count": 14,
   "metadata": {
    "colab": {
     "base_uri": "https://localhost:8080/",
     "height": 34
    },
    "id": "UFaMlTm6blrp",
    "outputId": "51724970-ae7d-4853-e4a3-13e8ea7966a4"
   },
   "outputs": [
    {
     "name": "stdout",
     "output_type": "stream",
     "text": [
      "All labels verified\n"
     ]
    }
   ],
   "source": [
    "if len(labels) == len(filename):\n",
    "  print (\"All labels verified\")\n",
    "else:\n",
    "  print (\"Missing some files\")"
   ]
  },
  {
   "cell_type": "code",
   "execution_count": 15,
   "metadata": {
    "id": "7LGWgavZUorv"
   },
   "outputs": [],
   "source": [
    "#uniques labels\n",
    "unique_breeds = np.unique(labels)\n",
    "boolean_labels = [label == unique_breeds for label in labels]"
   ]
  },
  {
   "cell_type": "code",
   "execution_count": 17,
   "metadata": {
    "id": "YHa09Y2DVBb1"
   },
   "outputs": [],
   "source": [
    "# Creating validation set\n",
    "x = filename\n",
    "y = boolean_labels"
   ]
  },
  {
   "cell_type": "code",
   "execution_count": 18,
   "metadata": {
    "colab": {
     "base_uri": "https://localhost:8080/",
     "height": 34
    },
    "id": "QFiqgsglbkiU",
    "outputId": "273524f7-e773-45d0-8806-5c6bd05b4f89"
   },
   "outputs": [
    {
     "data": {
      "text/plain": [
       "(800, 200, 800, 200)"
      ]
     },
     "execution_count": 18,
     "metadata": {},
     "output_type": "execute_result"
    }
   ],
   "source": [
    "x_train , x_val, y_train, y_val = train_test_split(x[:1000],\n",
    "                                                   y[:1000],\n",
    "                                                   test_size = 0.2,\n",
    "                                                   random_state=42)\n",
    "len(x_train), len(x_val), len(y_train), len(y_val)"
   ]
  },
  {
   "cell_type": "markdown",
   "metadata": {
    "id": "dwjOHCu6blHD"
   },
   "source": [
    "# Preprocessing Images \n",
    "## take an image filepath\n",
    "## use tensflow to read file and save it to a image\n",
    "## turn our image to tensor\n",
    "## normalize our image \n",
    "## resize the image to be a shape of (224,224)\n",
    "## return the modified image"
   ]
  },
  {
   "cell_type": "code",
   "execution_count": 21,
   "metadata": {},
   "outputs": [],
   "source": [
    "IMG_SIZE = 224\n",
    "\n",
    "def pre_process_image(image_path):\n",
    "    #read in a image file\n",
    "    image = tf.io.read_file(image_path)\n",
    "    #turn image to numerical tensor with 3 color RGB\n",
    "    image = tf.image.decode_jpeg(iamge, channels=3)\n",
    "    #convert the color channel value from 0-255 to 0-1 value\n",
    "    image = tf.image.convert_image_dtype(image, tf.float32)\n",
    "    #resize our image to our desired value (244,244)\n",
    "    image = tf.image.resize(image, size = [IMAGE_SIZE, IMAGE_SIZE])\n",
    "    #return the image\n",
    "    return image"
   ]
  },
  {
   "cell_type": "code",
   "execution_count": 22,
   "metadata": {},
   "outputs": [],
   "source": [
    "#turning our data into batches\n",
    "def get_image_label(image_path):\n",
    "    image = pre_process_image(image_path)\n",
    "    \n",
    "    return image, label"
   ]
  },
  {
   "cell_type": "code",
   "execution_count": null,
   "metadata": {},
   "outputs": [],
   "source": [
    "BATCH_SIZE = 32\n"
   ]
  }
 ],
 "metadata": {
  "accelerator": "GPU",
  "colab": {
   "collapsed_sections": [],
   "name": "dogbreed_identification.ipynb",
   "provenance": [],
   "toc_visible": true
  },
  "kernelspec": {
   "display_name": "Python 3",
   "language": "python",
   "name": "python3"
  },
  "language_info": {
   "codemirror_mode": {
    "name": "ipython",
    "version": 3
   },
   "file_extension": ".py",
   "mimetype": "text/x-python",
   "name": "python",
   "nbconvert_exporter": "python",
   "pygments_lexer": "ipython3",
   "version": "3.7.9"
  }
 },
 "nbformat": 4,
 "nbformat_minor": 1
}
